{
 "cells": [
  {
   "cell_type": "code",
   "execution_count": 4,
   "metadata": {},
   "outputs": [
    {
     "data": {
      "text/plain": [
       "(True, True)"
      ]
     },
     "execution_count": 4,
     "metadata": {},
     "output_type": "execute_result"
    }
   ],
   "source": [
    "import os\n",
    "train_anno='/data/home/zeno/YOLO2_Keras/tiny_train_annot/'\n",
    "train_img='/data/home/zeno/YOLO2_Keras/tiny_train_img/'\n",
    "os.path.exists(train_img), os.path.exists(train_anno)"
   ]
  },
  {
   "cell_type": "code",
   "execution_count": 5,
   "metadata": {},
   "outputs": [],
   "source": [
    "import xml.etree.cElementTree as et\n",
    "\n",
    "def parse_xml(xmlfile,filename):\n",
    "    parsedXML = et.parse(xmlfile )\n",
    "    root=parsedXML.getroot()\n",
    "    name=root.iter()\n",
    "\n",
    "    for a in root.iter():\n",
    "        #print(a.tag, a.text)\n",
    "        if a.tag=='path':\n",
    "            a.text='/data/home/zeno/YOLO2_Keras/tiny_train_img/'+filename\n",
    "            print('/data/home/zeno/YOLO2_Keras/tiny_train_img/'+filename)\n",
    "\n",
    "        else:\n",
    "            pass\n",
    "    #image_names=[ xmlfile.split('/')[-1].split('.')[0]+'.jpg' for _ in range(len(labels))]\n",
    "        \n",
    "    parsedXML.write(xmlfile)"
   ]
  },
  {
   "cell_type": "code",
   "execution_count": 6,
   "metadata": {},
   "outputs": [
    {
     "name": "stdout",
     "output_type": "stream",
     "text": [
      "/data/home/zeno/YOLO2_Keras/tiny_train_img/0076.jpg\n",
      "/data/home/zeno/YOLO2_Keras/tiny_train_img/0079.jpg\n",
      "/data/home/zeno/YOLO2_Keras/tiny_train_img/0041.jpg\n",
      "/data/home/zeno/YOLO2_Keras/tiny_train_img/0065.jpg\n",
      "/data/home/zeno/YOLO2_Keras/tiny_train_img/0074.jpg\n",
      "/data/home/zeno/YOLO2_Keras/tiny_train_img/0066.jpg\n",
      "/data/home/zeno/YOLO2_Keras/tiny_train_img/0082.jpg\n",
      "/data/home/zeno/YOLO2_Keras/tiny_train_img/0045.png\n",
      "/data/home/zeno/YOLO2_Keras/tiny_train_img/0063.jpg\n",
      "/data/home/zeno/YOLO2_Keras/tiny_train_img/0049.jpg\n",
      "/data/home/zeno/YOLO2_Keras/tiny_train_img/0073.jpg\n",
      "/data/home/zeno/YOLO2_Keras/tiny_train_img/0050.jpg\n",
      "/data/home/zeno/YOLO2_Keras/tiny_train_img/0069.jpg\n",
      "/data/home/zeno/YOLO2_Keras/tiny_train_img/0083.jpg\n",
      "/data/home/zeno/YOLO2_Keras/tiny_train_img/0075.jpg\n",
      "/data/home/zeno/YOLO2_Keras/tiny_train_img/0044.jpg\n",
      "/data/home/zeno/YOLO2_Keras/tiny_train_img/0064.jpg\n",
      "/data/home/zeno/YOLO2_Keras/tiny_train_img/0009.jpg\n",
      "/data/home/zeno/YOLO2_Keras/tiny_train_img/0014.jpg\n",
      "/data/home/zeno/YOLO2_Keras/tiny_train_img/0035.jpg\n"
     ]
    }
   ],
   "source": [
    "import os \n",
    "import pandas as pd\n",
    "import numpy as np\n",
    "\n",
    "\n",
    "xml_files=os.listdir(train_anno)\n",
    "for xmlfile in xml_files:\n",
    "    name1=xmlfile.split('.')[0]+'.jpg'\n",
    "    name2=xmlfile.split('.')[0]+'.png'\n",
    "    if os.path.exists(train_img+name1):\n",
    "        parse_xml(train_anno+xmlfile,name1)\n",
    "        \n",
    "    elif os.path.exists(train_img+name2):\n",
    "        parse_xml(train_anno+xmlfile,name2)\n",
    "    else:\n",
    "        pass\n",
    "        \n"
   ]
  },
  {
   "cell_type": "code",
   "execution_count": 8,
   "metadata": {},
   "outputs": [
    {
     "data": {
      "text/plain": [
       "(True, True)"
      ]
     },
     "execution_count": 8,
     "metadata": {},
     "output_type": "execute_result"
    }
   ],
   "source": [
    "import os\n",
    "val_anno='/data/home/zeno/YOLO2_Keras/tiny_val_annot/'\n",
    "val_img='/data/home/zeno/YOLO2_Keras/tiny_val_img/'\n",
    "os.path.exists(val_img), os.path.exists(val_anno)"
   ]
  },
  {
   "cell_type": "code",
   "execution_count": 9,
   "metadata": {},
   "outputs": [
    {
     "name": "stdout",
     "output_type": "stream",
     "text": [
      "/data/home/zeno/YOLO2_Keras/tiny_val_img/0045.png\n",
      "/data/home/zeno/YOLO2_Keras/tiny_val_img/0049.jpg\n",
      "/data/home/zeno/YOLO2_Keras/tiny_val_img/0073.jpg\n",
      "/data/home/zeno/YOLO2_Keras/tiny_val_img/0069.jpg\n",
      "/data/home/zeno/YOLO2_Keras/tiny_val_img/0035.jpg\n"
     ]
    }
   ],
   "source": [
    "import os \n",
    "import pandas as pd\n",
    "import numpy as np\n",
    "\n",
    "import xml.etree.cElementTree as et\n",
    "\n",
    "def parse_xml_val(xmlfile,filename):\n",
    "    parsedXML = et.parse(xmlfile )\n",
    "    root=parsedXML.getroot()\n",
    "    name=root.iter()\n",
    "\n",
    "    for a in root.iter():\n",
    "        #print(a.tag, a.text)\n",
    "        if a.tag=='path':\n",
    "            a.text=val_img+filename\n",
    "            print(val_img+filename)\n",
    "\n",
    "        else:\n",
    "            pass\n",
    "    #image_names=[ xmlfile.split('/')[-1].split('.')[0]+'.jpg' for _ in range(len(labels))]\n",
    "        \n",
    "    parsedXML.write(xmlfile)\n",
    "\n",
    "xml_files=os.listdir(val_anno)\n",
    "for xmlfile in xml_files:\n",
    "    name1=xmlfile.split('.')[0]+'.jpg'\n",
    "    name2=xmlfile.split('.')[0]+'.png'\n",
    "    if os.path.exists(val_img+name1):\n",
    "        parse_xml_val(val_anno+xmlfile,name1)\n",
    "        \n",
    "    elif os.path.exists(val_img+name2):\n",
    "        parse_xml_val(val_anno+xmlfile,name2)\n",
    "    else:\n",
    "        pass"
   ]
  }
 ],
 "metadata": {
  "kernelspec": {
   "display_name": "Python 3",
   "language": "python",
   "name": "python3"
  },
  "language_info": {
   "codemirror_mode": {
    "name": "ipython",
    "version": 3
   },
   "file_extension": ".py",
   "mimetype": "text/x-python",
   "name": "python",
   "nbconvert_exporter": "python",
   "pygments_lexer": "ipython3",
   "version": "3.6.6"
  }
 },
 "nbformat": 4,
 "nbformat_minor": 2
}
