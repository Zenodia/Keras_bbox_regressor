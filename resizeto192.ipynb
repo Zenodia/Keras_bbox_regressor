{
 "cells": [
  {
   "cell_type": "code",
   "execution_count": 4,
   "metadata": {},
   "outputs": [
    {
     "data": {
      "text/plain": [
       "(True, '0000.jpg')"
      ]
     },
     "execution_count": 4,
     "metadata": {},
     "output_type": "execute_result"
    }
   ],
   "source": [
    "import os\n",
    "\n",
    "path='C:/Users/zecharpy/Desktop/YOLO2_Keras/tiny_train_img/'\n",
    "annot='C:/Users/zecharpy/Desktop/YOLO2_Keras/tiny_train_annot/'\n",
    "\n",
    "os.path.exists(path), os.listdir(path)[0]"
   ]
  },
  {
   "cell_type": "code",
   "execution_count": 5,
   "metadata": {},
   "outputs": [
    {
     "name": "stdout",
     "output_type": "stream",
     "text": [
      "(192, 192, 3)\n",
      "(192, 192, 3)\n",
      "(192, 192, 3)\n",
      "(192, 192, 3)\n",
      "(192, 192, 3)\n",
      "(192, 192, 3)\n",
      "(192, 192, 3)\n",
      "(192, 192, 3)\n",
      "(192, 192, 3)\n",
      "(192, 192, 3)\n",
      "(192, 192, 3)\n",
      "(192, 192, 3)\n",
      "(192, 192, 3)\n",
      "(192, 192, 3)\n",
      "(192, 192, 3)\n",
      "(192, 192, 3)\n",
      "(192, 192, 3)\n",
      "(192, 192, 3)\n",
      "(192, 192, 3)\n",
      "(192, 192, 3)\n",
      "(192, 192, 3)\n",
      "(192, 192, 3)\n",
      "(192, 192, 3)\n",
      "(192, 192, 3)\n",
      "(192, 192, 3)\n",
      "(192, 192, 3)\n",
      "(192, 192, 3)\n",
      "(192, 192, 3)\n",
      "(192, 192, 3)\n",
      "(192, 192, 3)\n",
      "(192, 192, 3)\n",
      "(192, 192, 3)\n",
      "(192, 192, 3)\n",
      "(192, 192, 3)\n",
      "(192, 192, 3)\n",
      "(192, 192, 3)\n",
      "(192, 192, 3)\n",
      "(192, 192, 3)\n",
      "(192, 192, 3)\n",
      "(192, 192, 3)\n",
      "(192, 192, 3)\n",
      "(192, 192, 3)\n",
      "(192, 192, 3)\n",
      "(192, 192, 3)\n",
      "(192, 192, 3)\n",
      "(192, 192, 3)\n",
      "(192, 192, 3)\n",
      "(192, 192, 3)\n",
      "(192, 192, 3)\n",
      "(192, 192, 3)\n",
      "(192, 192, 3)\n",
      "(192, 192, 3)\n",
      "(192, 192, 3)\n",
      "(192, 192, 3)\n",
      "(192, 192, 3)\n",
      "(192, 192, 3)\n",
      "(192, 192, 3)\n",
      "(192, 192, 3)\n",
      "(192, 192, 3)\n",
      "(192, 192, 3)\n",
      "(192, 192, 3)\n",
      "(192, 192, 3)\n",
      "(192, 192, 3)\n",
      "(192, 192, 3)\n",
      "(192, 192, 3)\n",
      "(192, 192, 3)\n",
      "(192, 192, 3)\n",
      "(192, 192, 3)\n",
      "(192, 192, 3)\n",
      "(192, 192, 3)\n",
      "(192, 192, 3)\n",
      "(192, 192, 3)\n",
      "(192, 192, 3)\n",
      "(192, 192, 3)\n",
      "(192, 192, 3)\n",
      "(192, 192, 3)\n",
      "(192, 192, 3)\n",
      "(192, 192, 3)\n",
      "(192, 192, 3)\n",
      "(192, 192, 3)\n",
      "(192, 192, 3)\n",
      "(192, 192, 3)\n",
      "(192, 192, 3)\n",
      "(192, 192, 3)\n",
      "(192, 192, 3)\n",
      "(192, 192, 3)\n",
      "(192, 192, 3)\n",
      "(192, 192, 3)\n",
      "(192, 192, 3)\n",
      "(192, 192, 3)\n",
      "(192, 192, 3)\n",
      "(192, 192, 3)\n",
      "(192, 192, 3)\n",
      "(192, 192, 3)\n",
      "(192, 192, 3)\n"
     ]
    }
   ],
   "source": [
    "import cv2\n",
    "\n",
    "img_ls=os.listdir(path)\n",
    "annot_ls=os.listdir(annot)\n",
    "for i in range(len(img_ls)):\n",
    "    im=cv2.imread(path+img_ls[i])\n",
    "    im=cv2.resize(im,(192,192))\n",
    "    print(im.shape)\n",
    "    cv2.imwrite(path+str(i)+'.jpg',im)\n",
    "    "
   ]
  }
 ],
 "metadata": {
  "kernelspec": {
   "display_name": "Python 3",
   "language": "python",
   "name": "python3"
  },
  "language_info": {
   "codemirror_mode": {
    "name": "ipython",
    "version": 3
   },
   "file_extension": ".py",
   "mimetype": "text/x-python",
   "name": "python",
   "nbconvert_exporter": "python",
   "pygments_lexer": "ipython3",
   "version": "3.6.6"
  }
 },
 "nbformat": 4,
 "nbformat_minor": 2
}
